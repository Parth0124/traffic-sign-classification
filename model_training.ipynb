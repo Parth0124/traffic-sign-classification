{
 "cells": [
  {
   "cell_type": "code",
   "execution_count": 1,
   "metadata": {},
   "outputs": [
    {
     "name": "stdout",
     "output_type": "stream",
     "text": [
      "x_train_gray_norm shape: (34799, 32, 32, 1)\n",
      "x_test_gray_norm shape: (12630, 32, 32, 1)\n",
      "x_validation_gray_norm shape: (4410, 32, 32, 1)\n"
     ]
    }
   ],
   "source": [
    "import pickle\n",
    "\n",
    "with open('x_train_gray_norm.pkl', 'rb') as f:\n",
    "    x_train_gray_norm = pickle.load(f)\n",
    "\n",
    "with open('x_test_gray_norm.pkl', 'rb') as f:\n",
    "    x_test_gray_norm = pickle.load(f)\n",
    "\n",
    "with open('x_validation_gray_norm.pkl', 'rb') as f:\n",
    "    x_validation_gray_norm = pickle.load(f)\n",
    "\n",
    "print(\"x_train_gray_norm shape:\", x_train_gray_norm.shape)\n",
    "print(\"x_test_gray_norm shape:\", x_test_gray_norm.shape)\n",
    "print(\"x_validation_gray_norm shape:\", x_validation_gray_norm.shape)"
   ]
  },
  {
   "cell_type": "code",
   "execution_count": null,
   "metadata": {},
   "outputs": [],
   "source": []
  }
 ],
 "metadata": {
  "kernelspec": {
   "display_name": "Python 3",
   "language": "python",
   "name": "python3"
  },
  "language_info": {
   "codemirror_mode": {
    "name": "ipython",
    "version": 3
   },
   "file_extension": ".py",
   "mimetype": "text/x-python",
   "name": "python",
   "nbconvert_exporter": "python",
   "pygments_lexer": "ipython3",
   "version": "3.11.0"
  }
 },
 "nbformat": 4,
 "nbformat_minor": 2
}
