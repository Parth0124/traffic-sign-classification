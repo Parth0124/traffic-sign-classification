{
 "cells": [
  {
   "cell_type": "code",
   "execution_count": 1,
   "metadata": {},
   "outputs": [],
   "source": [
    "import pandas as pd\n",
    "import numpy as np\n",
    "import matplotlib.pyplot as plt\n",
    "import seaborn as sns\n",
    "import tensorflow as tf\n",
    "from tensorflow.keras.models import load_model"
   ]
  },
  {
   "cell_type": "code",
   "execution_count": 3,
   "metadata": {},
   "outputs": [
    {
     "name": "stdout",
     "output_type": "stream",
     "text": [
      "Model loaded successfully.\n"
     ]
    },
    {
     "name": "stderr",
     "output_type": "stream",
     "text": [
      "/Users/parthabhang/Desktop/DL/traffic sign classification/signenv/lib/python3.11/site-packages/keras/src/saving/saving_lib.py:757: UserWarning: Skipping variable loading for optimizer 'rmsprop', because it has 12 variables whereas the saved optimizer has 22 variables. \n",
      "  saveable.load_own_variables(weights_store.get(inner_path))\n"
     ]
    }
   ],
   "source": [
    "model = load_model('model.keras')\n",
    "print(\"Model loaded successfully.\")"
   ]
  },
  {
   "cell_type": "code",
   "execution_count": 4,
   "metadata": {},
   "outputs": [
    {
     "name": "stdout",
     "output_type": "stream",
     "text": [
      "x_train_gray_norm shape: (34799, 32, 32, 1)\n",
      "x_test_gray_norm shape: (12630, 32, 32, 1)\n",
      "x_validation_gray_norm shape: (4410, 32, 32, 1)\n",
      "y_train shape: (34799,)\n",
      "y_validation shape: (4410,)\n",
      "y_test shape: (12630,)\n"
     ]
    }
   ],
   "source": [
    "import pickle\n",
    "\n",
    "with open('x_train_gray_norm.pkl', 'rb') as f:\n",
    "    x_train_gray_norm = pickle.load(f)\n",
    "\n",
    "with open('x_test_gray_norm.pkl', 'rb') as f:\n",
    "    x_test_gray_norm = pickle.load(f)\n",
    "\n",
    "with open('x_validation_gray_norm.pkl', 'rb') as f:\n",
    "    x_validation_gray_norm = pickle.load(f)\n",
    "\n",
    "with open('y_train.pkl', 'rb') as f:\n",
    "    y_train = pickle.load(f)\n",
    "\n",
    "with open('y_validation.pkl', 'rb') as f:\n",
    "    y_validation = pickle.load(f)\n",
    "\n",
    "with open('y_test.pkl', 'rb') as f:\n",
    "    y_test = pickle.load(f)\n",
    "\n",
    "print(\"x_train_gray_norm shape:\", x_train_gray_norm.shape)\n",
    "print(\"x_test_gray_norm shape:\", x_test_gray_norm.shape)\n",
    "print(\"x_validation_gray_norm shape:\", x_validation_gray_norm.shape)\n",
    "print(\"y_train shape:\", y_train.shape)\n",
    "print(\"y_validation shape:\", y_validation.shape)\n",
    "print(\"y_test shape:\", y_test.shape)"
   ]
  },
  {
   "cell_type": "code",
   "execution_count": 5,
   "metadata": {},
   "outputs": [
    {
     "name": "stdout",
     "output_type": "stream",
     "text": [
      "Test Accuracy : 0.0561\n"
     ]
    }
   ],
   "source": [
    "score = model.evaluate(x_test_gray_norm, y_test,verbose=0)\n",
    "print('Test Accuracy : {:.4f}'.format(score[1]))"
   ]
  }
 ],
 "metadata": {
  "kernelspec": {
   "display_name": "Python 3",
   "language": "python",
   "name": "python3"
  },
  "language_info": {
   "codemirror_mode": {
    "name": "ipython",
    "version": 3
   },
   "file_extension": ".py",
   "mimetype": "text/x-python",
   "name": "python",
   "nbconvert_exporter": "python",
   "pygments_lexer": "ipython3",
   "version": "3.11.0"
  }
 },
 "nbformat": 4,
 "nbformat_minor": 2
}
